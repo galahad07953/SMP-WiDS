{
  "nbformat": 4,
  "nbformat_minor": 0,
  "metadata": {
    "colab": {
      "name": "Stock Market Prediction.ipynb",
      "provenance": [],
      "collapsed_sections": []
    },
    "kernelspec": {
      "name": "python3",
      "display_name": "Python 3"
    },
    "language_info": {
      "name": "python"
    }
  },
  "cells": [
    {
      "cell_type": "code",
      "source": [
        "import numpy as np\n",
        "import pandas as pd\n",
        "import matplotlib.pyplot as plt\n",
        "from keras.models import Sequential\n",
        "from keras.layers import LSTM\n",
        "from keras.layers import Dense\n",
        "from keras.layers import Dropout\n",
        "from sklearn.preprocessing import MinMaxScaler"
      ],
      "metadata": {
        "id": "ZAYjcv4v9zuv"
      },
      "execution_count": 21,
      "outputs": []
    },
    {
      "cell_type": "code",
      "source": [
        "df = pd.read_csv(\"Silver Data Last Year.csv\")\n",
        "df = df.drop([310,311],axis=0)\n",
        "df['Date'] =  pd.to_datetime(df['Date'], infer_datetime_format=True)\n",
        "df[\"Price\"] = df.Price.astype(float)\n",
        "df[\"Open\"] = df.Price.astype(float)\n",
        "df[\"High\"] = df.Price.astype(float)\n",
        "df[\"Low\"] = df.Price.astype(float)\n",
        "df=df.sort_values(by = \"Date\", ascending=True)\n",
        "df.head()"
      ],
      "metadata": {
        "colab": {
          "base_uri": "https://localhost:8080/",
          "height": 206
        },
        "id": "fk5pXNsB91uw",
        "outputId": "f2e95449-cb62-49bd-e303-5366312eeeee"
      },
      "execution_count": 22,
      "outputs": [
        {
          "output_type": "execute_result",
          "data": {
            "text/html": [
              "\n",
              "  <div id=\"df-0fbcc747-78d8-44fc-bb6c-eb8c6630ee95\">\n",
              "    <div class=\"colab-df-container\">\n",
              "      <div>\n",
              "<style scoped>\n",
              "    .dataframe tbody tr th:only-of-type {\n",
              "        vertical-align: middle;\n",
              "    }\n",
              "\n",
              "    .dataframe tbody tr th {\n",
              "        vertical-align: top;\n",
              "    }\n",
              "\n",
              "    .dataframe thead th {\n",
              "        text-align: right;\n",
              "    }\n",
              "</style>\n",
              "<table border=\"1\" class=\"dataframe\">\n",
              "  <thead>\n",
              "    <tr style=\"text-align: right;\">\n",
              "      <th></th>\n",
              "      <th>Date</th>\n",
              "      <th>Price</th>\n",
              "      <th>Open</th>\n",
              "      <th>High</th>\n",
              "      <th>Low</th>\n",
              "      <th>Vol.</th>\n",
              "      <th>Change %</th>\n",
              "    </tr>\n",
              "  </thead>\n",
              "  <tbody>\n",
              "    <tr>\n",
              "      <th>309</th>\n",
              "      <td>2016-08-28</td>\n",
              "      <td>18.540</td>\n",
              "      <td>18.540</td>\n",
              "      <td>18.540</td>\n",
              "      <td>18.540</td>\n",
              "      <td>0</td>\n",
              "      <td>-2.37</td>\n",
              "    </tr>\n",
              "    <tr>\n",
              "      <th>308</th>\n",
              "      <td>2016-08-29</td>\n",
              "      <td>19.100</td>\n",
              "      <td>19.100</td>\n",
              "      <td>19.100</td>\n",
              "      <td>19.100</td>\n",
              "      <td>0.00K</td>\n",
              "      <td>3.02</td>\n",
              "    </tr>\n",
              "    <tr>\n",
              "      <th>307</th>\n",
              "      <td>2016-08-30</td>\n",
              "      <td>18.914</td>\n",
              "      <td>18.914</td>\n",
              "      <td>18.914</td>\n",
              "      <td>18.914</td>\n",
              "      <td>0.00K</td>\n",
              "      <td>-0.97</td>\n",
              "    </tr>\n",
              "    <tr>\n",
              "      <th>306</th>\n",
              "      <td>2016-08-31</td>\n",
              "      <td>18.945</td>\n",
              "      <td>18.945</td>\n",
              "      <td>18.945</td>\n",
              "      <td>18.945</td>\n",
              "      <td>0.00K</td>\n",
              "      <td>0.16</td>\n",
              "    </tr>\n",
              "    <tr>\n",
              "      <th>305</th>\n",
              "      <td>2016-09-01</td>\n",
              "      <td>19.179</td>\n",
              "      <td>19.179</td>\n",
              "      <td>19.179</td>\n",
              "      <td>19.179</td>\n",
              "      <td>0.06K</td>\n",
              "      <td>1.24</td>\n",
              "    </tr>\n",
              "  </tbody>\n",
              "</table>\n",
              "</div>\n",
              "      <button class=\"colab-df-convert\" onclick=\"convertToInteractive('df-0fbcc747-78d8-44fc-bb6c-eb8c6630ee95')\"\n",
              "              title=\"Convert this dataframe to an interactive table.\"\n",
              "              style=\"display:none;\">\n",
              "        \n",
              "  <svg xmlns=\"http://www.w3.org/2000/svg\" height=\"24px\"viewBox=\"0 0 24 24\"\n",
              "       width=\"24px\">\n",
              "    <path d=\"M0 0h24v24H0V0z\" fill=\"none\"/>\n",
              "    <path d=\"M18.56 5.44l.94 2.06.94-2.06 2.06-.94-2.06-.94-.94-2.06-.94 2.06-2.06.94zm-11 1L8.5 8.5l.94-2.06 2.06-.94-2.06-.94L8.5 2.5l-.94 2.06-2.06.94zm10 10l.94 2.06.94-2.06 2.06-.94-2.06-.94-.94-2.06-.94 2.06-2.06.94z\"/><path d=\"M17.41 7.96l-1.37-1.37c-.4-.4-.92-.59-1.43-.59-.52 0-1.04.2-1.43.59L10.3 9.45l-7.72 7.72c-.78.78-.78 2.05 0 2.83L4 21.41c.39.39.9.59 1.41.59.51 0 1.02-.2 1.41-.59l7.78-7.78 2.81-2.81c.8-.78.8-2.07 0-2.86zM5.41 20L4 18.59l7.72-7.72 1.47 1.35L5.41 20z\"/>\n",
              "  </svg>\n",
              "      </button>\n",
              "      \n",
              "  <style>\n",
              "    .colab-df-container {\n",
              "      display:flex;\n",
              "      flex-wrap:wrap;\n",
              "      gap: 12px;\n",
              "    }\n",
              "\n",
              "    .colab-df-convert {\n",
              "      background-color: #E8F0FE;\n",
              "      border: none;\n",
              "      border-radius: 50%;\n",
              "      cursor: pointer;\n",
              "      display: none;\n",
              "      fill: #1967D2;\n",
              "      height: 32px;\n",
              "      padding: 0 0 0 0;\n",
              "      width: 32px;\n",
              "    }\n",
              "\n",
              "    .colab-df-convert:hover {\n",
              "      background-color: #E2EBFA;\n",
              "      box-shadow: 0px 1px 2px rgba(60, 64, 67, 0.3), 0px 1px 3px 1px rgba(60, 64, 67, 0.15);\n",
              "      fill: #174EA6;\n",
              "    }\n",
              "\n",
              "    [theme=dark] .colab-df-convert {\n",
              "      background-color: #3B4455;\n",
              "      fill: #D2E3FC;\n",
              "    }\n",
              "\n",
              "    [theme=dark] .colab-df-convert:hover {\n",
              "      background-color: #434B5C;\n",
              "      box-shadow: 0px 1px 3px 1px rgba(0, 0, 0, 0.15);\n",
              "      filter: drop-shadow(0px 1px 2px rgba(0, 0, 0, 0.3));\n",
              "      fill: #FFFFFF;\n",
              "    }\n",
              "  </style>\n",
              "\n",
              "      <script>\n",
              "        const buttonEl =\n",
              "          document.querySelector('#df-0fbcc747-78d8-44fc-bb6c-eb8c6630ee95 button.colab-df-convert');\n",
              "        buttonEl.style.display =\n",
              "          google.colab.kernel.accessAllowed ? 'block' : 'none';\n",
              "\n",
              "        async function convertToInteractive(key) {\n",
              "          const element = document.querySelector('#df-0fbcc747-78d8-44fc-bb6c-eb8c6630ee95');\n",
              "          const dataTable =\n",
              "            await google.colab.kernel.invokeFunction('convertToInteractive',\n",
              "                                                     [key], {});\n",
              "          if (!dataTable) return;\n",
              "\n",
              "          const docLinkHtml = 'Like what you see? Visit the ' +\n",
              "            '<a target=\"_blank\" href=https://colab.research.google.com/notebooks/data_table.ipynb>data table notebook</a>'\n",
              "            + ' to learn more about interactive tables.';\n",
              "          element.innerHTML = '';\n",
              "          dataTable['output_type'] = 'display_data';\n",
              "          await google.colab.output.renderOutput(dataTable, element);\n",
              "          const docLink = document.createElement('div');\n",
              "          docLink.innerHTML = docLinkHtml;\n",
              "          element.appendChild(docLink);\n",
              "        }\n",
              "      </script>\n",
              "    </div>\n",
              "  </div>\n",
              "  "
            ],
            "text/plain": [
              "          Date   Price    Open    High     Low   Vol.  Change %\n",
              "309 2016-08-28  18.540  18.540  18.540  18.540      0     -2.37\n",
              "308 2016-08-29  19.100  19.100  19.100  19.100  0.00K      3.02\n",
              "307 2016-08-30  18.914  18.914  18.914  18.914  0.00K     -0.97\n",
              "306 2016-08-31  18.945  18.945  18.945  18.945  0.00K      0.16\n",
              "305 2016-09-01  19.179  19.179  19.179  19.179  0.06K      1.24"
            ]
          },
          "metadata": {},
          "execution_count": 22
        }
      ]
    },
    {
      "cell_type": "code",
      "source": [
        "plt.plot(df[\"Date\"],df[\"Price\"],label = \"Price\")\n",
        "plt.legend()\n",
        "plt.title(\"Silver Data from Last year\")\n",
        "plt.show()"
      ],
      "metadata": {
        "colab": {
          "base_uri": "https://localhost:8080/",
          "height": 281
        },
        "id": "7SSvS3KKJNXU",
        "outputId": "bfdeb321-bfd0-49df-e856-9d142887f21f"
      },
      "execution_count": 23,
      "outputs": [
        {
          "output_type": "display_data",
          "data": {
            "image/png": "[encoded data removed]",
            "text/plain": [
              "<Figure size 432x288 with 1 Axes>"
            ]
          },
          "metadata": {
            "needs_background": "light"
          }
        }
      ]
    },
    {
      "cell_type": "code",
      "source": [
        "training_set = df.iloc[:,1:2].values\n",
        "training_set.shape"
      ],
      "metadata": {
        "colab": {
          "base_uri": "https://localhost:8080/"
        },
        "id": "P7mV2QdG91sJ",
        "outputId": "ab077ba2-3501-4056-cd9c-027be4837ef0"
      },
      "execution_count": 24,
      "outputs": [
        {
          "output_type": "execute_result",
          "data": {
            "text/plain": [
              "(310, 1)"
            ]
          },
          "metadata": {},
          "execution_count": 24
        }
      ]
    },
    {
      "cell_type": "code",
      "source": [
        "scaler = MinMaxScaler(feature_range=(0,1))\n",
        "scaled_training_set = scaler.fit_transform(training_set)"
      ],
      "metadata": {
        "id": "rHVwnps_91pV"
      },
      "execution_count": 25,
      "outputs": []
    },
    {
      "cell_type": "code",
      "source": [
        "X_train = []\n",
        "y_train = []\n",
        "for i in range(60,training_set.shape[0]):\n",
        "  X_train.append(scaled_training_set[i-60:i,0])\n",
        "  y_train.append(scaled_training_set[i,0])\n",
        "X_train = np.array(X_train)\n",
        "y_train = np.array(y_train)"
      ],
      "metadata": {
        "id": "vwJZpHvp91mb"
      },
      "execution_count": 26,
      "outputs": []
    },
    {
      "cell_type": "code",
      "source": [
        "X_train = np.reshape(X_train,(X_train.shape[0], X_train.shape[1],1))\n",
        "X_train.shape"
      ],
      "metadata": {
        "colab": {
          "base_uri": "https://localhost:8080/"
        },
        "id": "rj9jWE0q91jo",
        "outputId": "a5d0664d-ebab-4f10-b485-b23fd76fc240"
      },
      "execution_count": 27,
      "outputs": [
        {
          "output_type": "execute_result",
          "data": {
            "text/plain": [
              "(250, 60, 1)"
            ]
          },
          "metadata": {},
          "execution_count": 27
        }
      ]
    },
    {
      "cell_type": "code",
      "source": [
        "LSTM_model = Sequential()\n",
        "LSTM_model.add(LSTM(units = 50, return_sequences=True, input_shape = (X_train.shape[1],1)))\n",
        "# LSTM_model.add(Dropout(0.2))\n",
        "\n",
        "LSTM_model.add(LSTM(units=50, return_sequences=True))\n",
        "# LSTM_model.add(Dropout(0.2))\n",
        "\n",
        "LSTM_model.add(LSTM(units=50, return_sequences=True))\n",
        "# LSTM_model.add(Dropout(0.2))\n",
        "\n",
        "LSTM_model.add(LSTM(units=50, return_sequences=True))\n",
        "# LSTM_model.add(Dropout(0.2))\n",
        "\n",
        "LSTM_model.add(LSTM(units=50, return_sequences=True))\n",
        "# LSTM_model.add(Dropout(0.2))\n",
        "\n",
        "LSTM_model.add(LSTM(units=50, return_sequences=True))\n",
        "# LSTM_model.add(Dropout(0.2))\n",
        "\n",
        "LSTM_model.add(LSTM(units=50))\n",
        "# LSTM_model.add(Dropout(0.2))\n",
        "\n",
        "LSTM_model.add(Dense(1))"
      ],
      "metadata": {
        "id": "tmuFh2LdQUTP"
      },
      "execution_count": 28,
      "outputs": []
    },
    {
      "cell_type": "code",
      "source": [
        "LSTM_model.compile(optimizer=\"adam\",loss=\"mean_squared_error\")\n",
        "LSTM_model.fit(X_train,y_train,epochs=100,batch_size=32)"
      ],
      "metadata": {
        "colab": {
          "base_uri": "https://localhost:8080/"
        },
        "id": "SLNGaiix91fL",
        "outputId": "b8a20947-5330-4107-cdec-df832bbf2bc5"
      },
      "execution_count": 29,
      "outputs": [
        {
          "output_type": "stream",
          "name": "stdout",
          "text": [
            "Epoch 1/100\n",
            "8/8 [==============================] - 13s 206ms/step - loss: 0.0540\n",
            "Epoch 2/100\n",
            "8/8 [==============================] - 2s 206ms/step - loss: 0.0242\n",
            "Epoch 3/100\n",
            "8/8 [==============================] - 2s 205ms/step - loss: 0.0231\n",
            "Epoch 4/100\n",
            "8/8 [==============================] - 2s 205ms/step - loss: 0.0217\n",
            "Epoch 5/100\n",
            "8/8 [==============================] - 2s 222ms/step - loss: 0.0225\n",
            "Epoch 6/100\n",
            "8/8 [==============================] - 2s 204ms/step - loss: 0.0217\n",
            "Epoch 7/100\n",
            "8/8 [==============================] - 2s 205ms/step - loss: 0.0212\n",
            "Epoch 8/100\n",
            "8/8 [==============================] - 2s 206ms/step - loss: 0.0207\n",
            "Epoch 9/100\n",
            "8/8 [==============================] - 2s 205ms/step - loss: 0.0206\n",
            "Epoch 10/100\n",
            "8/8 [==============================] - 2s 209ms/step - loss: 0.0208\n",
            "Epoch 11/100\n",
            "8/8 [==============================] - 2s 214ms/step - loss: 0.0206\n",
            "Epoch 12/100\n",
            "8/8 [==============================] - 2s 203ms/step - loss: 0.0198\n",
            "Epoch 13/100\n",
            "8/8 [==============================] - 2s 210ms/step - loss: 0.0214\n",
            "Epoch 14/100\n",
            "8/8 [==============================] - 2s 209ms/step - loss: 0.0210\n",
            "Epoch 15/100\n",
            "8/8 [==============================] - 2s 202ms/step - loss: 0.0204\n",
            "Epoch 16/100\n",
            "8/8 [==============================] - 2s 208ms/step - loss: 0.0201\n",
            "Epoch 17/100\n",
            "8/8 [==============================] - 2s 206ms/step - loss: 0.0184\n",
            "Epoch 18/100\n",
            "8/8 [==============================] - 2s 216ms/step - loss: 0.0175\n",
            "Epoch 19/100\n",
            "8/8 [==============================] - 2s 221ms/step - loss: 0.0173\n",
            "Epoch 20/100\n",
            "8/8 [==============================] - 2s 211ms/step - loss: 0.0157\n",
            "Epoch 21/100\n",
            "8/8 [==============================] - 2s 204ms/step - loss: 0.0150\n",
            "Epoch 22/100\n",
            "8/8 [==============================] - 2s 208ms/step - loss: 0.0145\n",
            "Epoch 23/100\n",
            "8/8 [==============================] - 2s 208ms/step - loss: 0.0136\n",
            "Epoch 24/100\n",
            "8/8 [==============================] - 2s 212ms/step - loss: 0.0140\n",
            "Epoch 25/100\n",
            "8/8 [==============================] - 2s 211ms/step - loss: 0.0117\n",
            "Epoch 26/100\n",
            "8/8 [==============================] - 2s 223ms/step - loss: 0.0109\n",
            "Epoch 27/100\n",
            "8/8 [==============================] - 2s 205ms/step - loss: 0.0102\n",
            "Epoch 28/100\n",
            "8/8 [==============================] - 2s 207ms/step - loss: 0.0093\n",
            "Epoch 29/100\n",
            "8/8 [==============================] - 2s 208ms/step - loss: 0.0097\n",
            "Epoch 30/100\n",
            "8/8 [==============================] - 2s 211ms/step - loss: 0.0083\n",
            "Epoch 31/100\n",
            "8/8 [==============================] - 2s 208ms/step - loss: 0.0069\n",
            "Epoch 32/100\n",
            "8/8 [==============================] - 2s 209ms/step - loss: 0.0067\n",
            "Epoch 33/100\n",
            "8/8 [==============================] - 2s 213ms/step - loss: 0.0060\n",
            "Epoch 34/100\n",
            "8/8 [==============================] - 2s 206ms/step - loss: 0.0059\n",
            "Epoch 35/100\n",
            "8/8 [==============================] - 2s 202ms/step - loss: 0.0058\n",
            "Epoch 36/100\n",
            "8/8 [==============================] - 2s 210ms/step - loss: 0.0068\n",
            "Epoch 37/100\n",
            "8/8 [==============================] - 2s 205ms/step - loss: 0.0073\n",
            "Epoch 38/100\n",
            "8/8 [==============================] - 2s 209ms/step - loss: 0.0058\n",
            "Epoch 39/100\n",
            "8/8 [==============================] - 2s 220ms/step - loss: 0.0059\n",
            "Epoch 40/100\n",
            "8/8 [==============================] - 2s 204ms/step - loss: 0.0056\n",
            "Epoch 41/100\n",
            "8/8 [==============================] - 2s 214ms/step - loss: 0.0053\n",
            "Epoch 42/100\n",
            "8/8 [==============================] - 2s 210ms/step - loss: 0.0054\n",
            "Epoch 43/100\n",
            "8/8 [==============================] - 2s 210ms/step - loss: 0.0049\n",
            "Epoch 44/100\n",
            "8/8 [==============================] - 2s 208ms/step - loss: 0.0053\n",
            "Epoch 45/100\n",
            "8/8 [==============================] - 2s 208ms/step - loss: 0.0047\n",
            "Epoch 46/100\n",
            "8/8 [==============================] - 2s 205ms/step - loss: 0.0044\n",
            "Epoch 47/100\n",
            "8/8 [==============================] - 2s 209ms/step - loss: 0.0043\n",
            "Epoch 48/100\n",
            "8/8 [==============================] - 2s 209ms/step - loss: 0.0046\n",
            "Epoch 49/100\n",
            "8/8 [==============================] - 2s 208ms/step - loss: 0.0042\n",
            "Epoch 50/100\n",
            "8/8 [==============================] - 2s 214ms/step - loss: 0.0039\n",
            "Epoch 51/100\n",
            "8/8 [==============================] - 2s 213ms/step - loss: 0.0039\n",
            "Epoch 52/100\n",
            "8/8 [==============================] - 2s 210ms/step - loss: 0.0038\n",
            "Epoch 53/100\n",
            "8/8 [==============================] - 2s 214ms/step - loss: 0.0038\n",
            "Epoch 54/100\n",
            "8/8 [==============================] - 2s 205ms/step - loss: 0.0037\n",
            "Epoch 55/100\n",
            "8/8 [==============================] - 2s 208ms/step - loss: 0.0038\n",
            "Epoch 56/100\n",
            "8/8 [==============================] - 2s 206ms/step - loss: 0.0037\n",
            "Epoch 57/100\n",
            "8/8 [==============================] - 2s 206ms/step - loss: 0.0038\n",
            "Epoch 58/100\n",
            "8/8 [==============================] - 2s 211ms/step - loss: 0.0034\n",
            "Epoch 59/100\n",
            "8/8 [==============================] - 2s 205ms/step - loss: 0.0032\n",
            "Epoch 60/100\n",
            "8/8 [==============================] - 2s 207ms/step - loss: 0.0034\n",
            "Epoch 61/100\n",
            "8/8 [==============================] - 2s 206ms/step - loss: 0.0036\n",
            "Epoch 62/100\n",
            "8/8 [==============================] - 2s 209ms/step - loss: 0.0041\n",
            "Epoch 63/100\n",
            "8/8 [==============================] - 2s 206ms/step - loss: 0.0034\n",
            "Epoch 64/100\n",
            "8/8 [==============================] - 2s 205ms/step - loss: 0.0034\n",
            "Epoch 65/100\n",
            "8/8 [==============================] - 2s 206ms/step - loss: 0.0030\n",
            "Epoch 66/100\n",
            "8/8 [==============================] - 2s 204ms/step - loss: 0.0027\n",
            "Epoch 67/100\n",
            "8/8 [==============================] - 2s 207ms/step - loss: 0.0027\n",
            "Epoch 68/100\n",
            "8/8 [==============================] - 2s 204ms/step - loss: 0.0025\n",
            "Epoch 69/100\n",
            "8/8 [==============================] - 2s 204ms/step - loss: 0.0031\n",
            "Epoch 70/100\n",
            "8/8 [==============================] - 2s 218ms/step - loss: 0.0028\n",
            "Epoch 71/100\n",
            "8/8 [==============================] - 2s 206ms/step - loss: 0.0025\n",
            "Epoch 72/100\n",
            "8/8 [==============================] - 2s 209ms/step - loss: 0.0023\n",
            "Epoch 73/100\n",
            "8/8 [==============================] - 2s 220ms/step - loss: 0.0025\n",
            "Epoch 74/100\n",
            "8/8 [==============================] - 2s 207ms/step - loss: 0.0025\n",
            "Epoch 75/100\n",
            "8/8 [==============================] - 2s 205ms/step - loss: 0.0025\n",
            "Epoch 76/100\n",
            "8/8 [==============================] - 2s 209ms/step - loss: 0.0025\n",
            "Epoch 77/100\n",
            "8/8 [==============================] - 2s 205ms/step - loss: 0.0024\n",
            "Epoch 78/100\n",
            "8/8 [==============================] - 2s 207ms/step - loss: 0.0024\n",
            "Epoch 79/100\n",
            "8/8 [==============================] - 2s 205ms/step - loss: 0.0024\n",
            "Epoch 80/100\n",
            "8/8 [==============================] - 2s 206ms/step - loss: 0.0024\n",
            "Epoch 81/100\n",
            "8/8 [==============================] - 2s 207ms/step - loss: 0.0023\n",
            "Epoch 82/100\n",
            "8/8 [==============================] - 2s 206ms/step - loss: 0.0024\n",
            "Epoch 83/100\n",
            "8/8 [==============================] - 2s 212ms/step - loss: 0.0028\n",
            "Epoch 84/100\n",
            "8/8 [==============================] - 2s 205ms/step - loss: 0.0027\n",
            "Epoch 85/100\n",
            "8/8 [==============================] - 2s 206ms/step - loss: 0.0024\n",
            "Epoch 86/100\n",
            "8/8 [==============================] - 2s 209ms/step - loss: 0.0022\n",
            "Epoch 87/100\n",
            "8/8 [==============================] - 2s 211ms/step - loss: 0.0023\n",
            "Epoch 88/100\n",
            "8/8 [==============================] - 2s 206ms/step - loss: 0.0022\n",
            "Epoch 89/100\n",
            "8/8 [==============================] - 2s 206ms/step - loss: 0.0022\n",
            "Epoch 90/100\n",
            "8/8 [==============================] - 2s 206ms/step - loss: 0.0021\n",
            "Epoch 91/100\n",
            "8/8 [==============================] - 2s 206ms/step - loss: 0.0019\n",
            "Epoch 92/100\n",
            "8/8 [==============================] - 2s 205ms/step - loss: 0.0020\n",
            "Epoch 93/100\n",
            "8/8 [==============================] - 2s 208ms/step - loss: 0.0021\n",
            "Epoch 94/100\n",
            "8/8 [==============================] - 2s 207ms/step - loss: 0.0020\n",
            "Epoch 95/100\n",
            "8/8 [==============================] - 2s 208ms/step - loss: 0.0018\n",
            "Epoch 96/100\n",
            "8/8 [==============================] - 2s 209ms/step - loss: 0.0018\n",
            "Epoch 97/100\n",
            "8/8 [==============================] - 2s 213ms/step - loss: 0.0020\n",
            "Epoch 98/100\n",
            "8/8 [==============================] - 2s 208ms/step - loss: 0.0018\n",
            "Epoch 99/100\n",
            "8/8 [==============================] - 2s 211ms/step - loss: 0.0019\n",
            "Epoch 100/100\n",
            "8/8 [==============================] - 2s 209ms/step - loss: 0.0021\n"
          ]
        },
        {
          "output_type": "execute_result",
          "data": {
            "text/plain": [
              "<keras.callbacks.History at 0x7f7f169d8990>"
            ]
          },
          "metadata": {},
          "execution_count": 29
        }
      ]
    },
    {
      "cell_type": "code",
      "source": [
        "df2 = pd.read_csv(\"Silver Data Last Month.csv\")\n",
        "df2 = df2.drop([28,29],axis=0)\n",
        "df2=df2.sort_values(by = \"Date\", ascending=True)\n",
        "df2['Date'] =  pd.to_datetime(df2['Date'], infer_datetime_format=True)\n",
        "df2[\"Price\"] = df2.Price.astype(float)\n",
        "df2[\"Open\"] = df2.Price.astype(float)\n",
        "df2[\"High\"] = df2.Price.astype(float)\n",
        "df2[\"Low\"] = df2.Price.astype(float)"
      ],
      "metadata": {
        "id": "so9F197N91bq"
      },
      "execution_count": 30,
      "outputs": []
    },
    {
      "cell_type": "code",
      "source": [
        "actual_price = df2.iloc[:,1:2].values\n",
        "actual_price.shape"
      ],
      "metadata": {
        "colab": {
          "base_uri": "https://localhost:8080/"
        },
        "id": "6IrtyWgP91ZE",
        "outputId": "9cdbd590-16e3-4d6f-ce6a-aa0c71b8def7"
      },
      "execution_count": 31,
      "outputs": [
        {
          "output_type": "execute_result",
          "data": {
            "text/plain": [
              "(28, 1)"
            ]
          },
          "metadata": {},
          "execution_count": 31
        }
      ]
    },
    {
      "cell_type": "code",
      "source": [
        "input_dataset = pd.concat((df[\"Price\"], df2[\"Price\"]), axis = 0)\n",
        "inputs = input_dataset[len(input_dataset)-len(df2)-60:].values\n",
        "inputs = inputs.reshape(-1,1)\n",
        "inputs = scaler.transform(inputs)\n",
        "\n",
        "X_test = []\n",
        "for i in range(60, len(inputs)):\n",
        "  X_test.append(inputs[i-60:i, 0])\n",
        "X_test = np.array(X_test)\n",
        "X_test = np.reshape(X_test,(X_test.shape[0], X_test.shape[1], 1))"
      ],
      "metadata": {
        "id": "Oui27CER91WW"
      },
      "execution_count": 32,
      "outputs": []
    },
    {
      "cell_type": "code",
      "source": [
        "predicted_price = LSTM_model.predict(X_test)\n",
        "predicted_price = scaler.inverse_transform(predicted_price)"
      ],
      "metadata": {
        "id": "AO5BCIIh91Tg"
      },
      "execution_count": 33,
      "outputs": []
    },
    {
      "cell_type": "code",
      "source": [
        "plt.plot(actual_price,color=\"red\", label = \"Actual Price\")\n",
        "plt.plot(predicted_price, color=\"blue\", label = \"Predicted Price\")\n",
        "plt.title(\"Actual Price vs Predicted Price for Silver data\")\n",
        "plt.xlabel(\"Time\")\n",
        "plt.ylabel(\"Price\")\n",
        "plt.legend()"
      ],
      "metadata": {
        "colab": {
          "base_uri": "https://localhost:8080/",
          "height": 312
        },
        "id": "Ef0Z-bPkEhNu",
        "outputId": "eda5d9dd-900a-46ba-a002-188125110fa0"
      },
      "execution_count": 34,
      "outputs": [
        {
          "output_type": "execute_result",
          "data": {
            "text/plain": [
              "<matplotlib.legend.Legend at 0x7f7f14ea1110>"
            ]
          },
          "metadata": {},
          "execution_count": 34
        },
        {
          "output_type": "display_data",
          "data": {
            "image/png": "[encoded data removed]",
            "text/plain": [
              "<Figure size 432x288 with 1 Axes>"
            ]
          },
          "metadata": {
            "needs_background": "light"
          }
        }
      ]
    }
  ]
}